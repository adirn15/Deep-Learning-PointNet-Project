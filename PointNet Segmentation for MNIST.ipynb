{
 "cells": [
  {
   "cell_type": "markdown",
   "metadata": {},
   "source": [
    "# Import Keras, H5py, Numpy"
   ]
  },
  {
   "cell_type": "code",
   "execution_count": 1,
   "metadata": {},
   "outputs": [
    {
     "name": "stderr",
     "output_type": "stream",
     "text": [
      "Using TensorFlow backend.\n"
     ]
    }
   ],
   "source": [
    "from __future__ import print_function\n",
    "import keras\n",
    "from keras.models import Model\n",
    "from keras.layers import Dense, Dropout, Flatten, Input\n",
    "from keras.layers import Conv2D, MaxPooling2D\n",
    "from keras.layers.core import RepeatVector,Reshape\n",
    "from keras import backend as K\n",
    "import h5py\n",
    "import numpy as np\n",
    "\n",
    "path = 'C:\\\\Users\\\\user\\\\university\\\\year3\\\\sem6\\\\tcg172\\\\'\n",
    "batch_size = 128\n",
    "num_classes = 10\n",
    "epochs = 3\n"
   ]
  },
  {
   "cell_type": "markdown",
   "metadata": {},
   "source": [
    "# Segmentation Data Initialization"
   ]
  },
  {
   "cell_type": "code",
   "execution_count": 2,
   "metadata": {},
   "outputs": [
    {
     "name": "stdout",
     "output_type": "stream",
     "text": [
      "test_data shape:  (10000, 1, 200, 2)\n",
      "test_labels shape:  (10000,)\n",
      "test_seg_labels shape:  (10000, 200)\n"
     ]
    }
   ],
   "source": [
    "# load data from NPZ file\n",
    "all_data = np.load(path+'mnist_points_segmentation.npz')\n",
    "all_data.keys()\n",
    "# #test arrays\n",
    "train_labels = all_data['train_labels']\n",
    "train_data = all_data['train_data']\n",
    "#validation arrays\n",
    "valid_labels = all_data['valid_labels']\n",
    "valid_data = all_data['valid_data']\n",
    "#test arrays\n",
    "test_labels = all_data['test_labels']\n",
    "test_data = all_data['test_data']\n",
    "#seg data\n",
    "train_seg_labels = all_data['train_seg']\n",
    "valid_seg_labels = all_data['valid_seg']\n",
    "test_seg_labels = all_data['test_seg']\n",
    "train_data = train_data.astype('float32')\n",
    "valid_data = valid_data.astype('float32')\n",
    "test_data = test_data.astype('float32')\n",
    "train_data = train_data.reshape(train_data.shape[0],1,200,2)\n",
    "valid_data = valid_data.reshape(valid_data.shape[0],1,200,2)\n",
    "test_data = test_data.reshape(test_data.shape[0],1,200,2)\n",
    "print('test_data shape: ',test_data.shape)\n",
    "print('test_labels shape: ',test_labels.shape)\n",
    "print('test_seg_labels shape: ',test_seg_labels.shape)"
   ]
  },
  {
   "cell_type": "markdown",
   "metadata": {},
   "source": [
    "# One Hot Encoding for 200*2 labels"
   ]
  },
  {
   "cell_type": "code",
   "execution_count": 3,
   "metadata": {
    "scrolled": false
   },
   "outputs": [
    {
     "name": "stdout",
     "output_type": "stream",
     "text": [
      "created labels\n",
      "encoded_test_labels shape:  (10000, 200, 2)\n"
     ]
    }
   ],
   "source": [
    "# in each label, all first 100 are the digit and the rest are background so we can easily 1 hot encode them\n",
    "seg_label = np.empty([200,2])\n",
    "for j in range(0,100):\n",
    "    seg_label[j]=[1,0]\n",
    "for j in range(100,200):\n",
    "    seg_label[j]=[0,1]\n",
    "# print(encoded_train_labels)\n",
    "encoded_valid_labels= np.empty([10000,200,2])\n",
    "for i in range(0,10000):\n",
    "    encoded_valid_labels[i]=seg_label\n",
    "encoded_test_labels= np.empty([10000,200,2])\n",
    "for i in range(0,10000):\n",
    "    encoded_test_labels[i]=seg_label \n",
    "encoded_train_labels= np.empty([50000,200,2])\n",
    "for i in range(0,50000):\n",
    "    encoded_train_labels[i]=seg_label \n",
    "print('created labels')\n",
    "print('encoded_test_labels shape: ',encoded_test_labels.shape)"
   ]
  },
  {
   "cell_type": "markdown",
   "metadata": {},
   "source": [
    "# Segmentation functional model"
   ]
  },
  {
   "cell_type": "code",
   "execution_count": 4,
   "metadata": {
    "scrolled": true
   },
   "outputs": [
    {
     "name": "stdout",
     "output_type": "stream",
     "text": [
      "local and global features shape:  (None, 1, 200, 1088)\n"
     ]
    }
   ],
   "source": [
    "segmentation_inputs = Input(shape=(1,200,2))\n",
    "\n",
    "#implement 2X2 TNET here\n",
    "\n",
    "segLayer1 = Conv2D(64,(1,1),strides=1, activation='relu')(segmentation_inputs)\n",
    "segLayer2 = Conv2D(64,(1,1), strides=1, activation='relu')(segLayer1)\n",
    "\n",
    "#missing 64X64 TNET here\n",
    "\n",
    "localFeatures = Conv2D(64,(1,1), strides=1, activation='relu')(segLayer2)\n",
    "\n",
    "segLayer4 = Conv2D(128,(1,1), strides=1, activation='relu')(localFeatures)\n",
    "segLayer5 = Conv2D(1024,(1,1), strides=1, activation='relu')(segLayer4)\n",
    "\n",
    "#max pooling layer\n",
    "segLayer6 = MaxPooling2D((1,200), strides=1, padding='valid')(segLayer5)\n",
    "segLayer7 = Flatten()(segLayer6)\n",
    "\n",
    "#merge local and global features into one vector\n",
    "segLayer8 = RepeatVector(200)(segLayer7)\n",
    "\n",
    "globalFeatures = Reshape((1,200,1024))(segLayer8)\n",
    "mixedFeatures = keras.layers.concatenate([localFeatures,globalFeatures])\n",
    "print('local and global features shape: ',mixedFeatures._keras_shape)\n",
    "\n",
    "# second MLP\n",
    "segLayer11 = Conv2D(512,(1,1), strides=1, activation='relu')(mixedFeatures)\n",
    "segLayer12 = Conv2D(256,(1,1), strides=1, activation='relu')(segLayer11)\n",
    "pointFeatures = Conv2D(128,(1,1), strides=1, activation='relu')(segLayer12)\n",
    "# pointFeatures = Reshape((200,128))(pointFeatures)\n",
    "# print(\"point features: \",pointFeatures._keras_shape)\n",
    "\n",
    "# third MLP\n",
    "\n",
    "segLayer14 = Conv2D(128,(1,1), strides=1, activation='relu')(pointFeatures)\n",
    "predictions = Conv2D(2,(1,1), strides=1, activation='softmax')(segLayer14)\n",
    "predictions = Reshape((200,2))(predictions)\n",
    "\n",
    "\n",
    "segmentation_model = Model(inputs= segmentation_inputs, outputs= predictions)\n",
    "segmentation_model.compile(loss=keras.losses.categorical_crossentropy,\n",
    "              optimizer=keras.optimizers.Adam(),\n",
    "              metrics=['accuracy'])\n"
   ]
  },
  {
   "cell_type": "code",
   "execution_count": null,
   "metadata": {
    "collapsed": true
   },
   "outputs": [],
   "source": [
    "segmentation_model.summary()"
   ]
  },
  {
   "cell_type": "markdown",
   "metadata": {},
   "source": [
    "# Training the model"
   ]
  },
  {
   "cell_type": "code",
   "execution_count": 9,
   "metadata": {},
   "outputs": [
    {
     "name": "stdout",
     "output_type": "stream",
     "text": [
      "Train on 50000 samples, validate on 10000 samples\n",
      "Epoch 1/3\n",
      "50000/50000 [==============================] - 2367s - loss: 0.1272 - acc: 0.9499 - val_loss: 0.0925 - val_acc: 0.9649\n",
      "Epoch 2/3\n",
      "50000/50000 [==============================] - 2359s - loss: 0.0899 - acc: 0.9661 - val_loss: 0.0965 - val_acc: 0.9631\n",
      "Epoch 3/3\n",
      "50000/50000 [==============================] - 2224s - loss: 0.0771 - acc: 0.9718 - val_loss: 0.0675 - val_acc: 0.9753\n",
      "Test loss: 0.0647749237716\n",
      "Test accuracy: 0.976459500694\n"
     ]
    }
   ],
   "source": [
    "segmentation_model.fit(train_data,encoded_train_labels,\n",
    "          batch_size=batch_size,\n",
    "          epochs=epochs,\n",
    "          verbose=1,\n",
    "          validation_data=(valid_data, encoded_valid_labels))\n",
    "score = segmentation_model.evaluate(test_data,encoded_test_labels, verbose=0)\n",
    "    \n",
    "print('Test loss:', score[0])\n",
    "print('Test accuracy:', score[1])\n"
   ]
  },
  {
   "cell_type": "code",
   "execution_count": 10,
   "metadata": {
    "collapsed": true
   },
   "outputs": [],
   "source": [
    "# segmentation_model.save_weights('seg_model.h5py')"
   ]
  },
  {
   "cell_type": "code",
   "execution_count": 5,
   "metadata": {
    "collapsed": true
   },
   "outputs": [],
   "source": [
    "segmentation_model.load_weights('seg_model.h5py')"
   ]
  },
  {
   "cell_type": "markdown",
   "metadata": {},
   "source": [
    "# Visualization: Show predictions on requested class"
   ]
  },
  {
   "cell_type": "code",
   "execution_count": 6,
   "metadata": {
    "collapsed": true
   },
   "outputs": [],
   "source": [
    "from matplotlib import pyplot as plt"
   ]
  },
  {
   "cell_type": "code",
   "execution_count": 19,
   "metadata": {
    "collapsed": true
   },
   "outputs": [],
   "source": [
    "def front_and_back(data_arr,index,labels,ispred):\n",
    "    j=0\n",
    "    k=0\n",
    "    number = np.empty([200,2])\n",
    "    background = np.empty([200,2])\n",
    "    for i in range(0,200):\n",
    "        if ispred:\n",
    "            cur_pred = labels[0][i]\n",
    "        else:\n",
    "            cur_pred = labels[index][i]\n",
    "        if cur_pred[0]>cur_pred[1]:\n",
    "            background[j]=data_arr[index][0][i]\n",
    "            j=j+1\n",
    "        else:\n",
    "            number[k]=data_arr[index][0][i]\n",
    "            k=k+1\n",
    "    n = number[:k]\n",
    "    b = background[:j]\n",
    "    return n,b\n",
    "\n",
    "def intersect(arr1, arr2):\n",
    "    arr1_view = arr1.view([('',arr1.dtype)]*arr1.shape[1])\n",
    "    arr2_view = arr2.view([('',arr2.dtype)]*arr2.shape[1])\n",
    "    intersected = np.intersect1d(arr1_view, arr2_view)\n",
    "    return intersected.view(arr1.dtype).reshape(-1, arr1.shape[1])   "
   ]
  },
  {
   "cell_type": "markdown",
   "metadata": {},
   "source": [
    "# Analysis of a digit (for the report) - visualize some data"
   ]
  },
  {
   "cell_type": "code",
   "execution_count": 25,
   "metadata": {},
   "outputs": [
    {
     "name": "stdout",
     "output_type": "stream",
     "text": [
      "please enter a digit from 0 to 9: 6\n"
     ]
    },
    {
     "data": {
      "image/png": "[encoded data removed]",
      "text/plain": [
       "<matplotlib.figure.Figure at 0x19c8899d0b8>"
      ]
     },
     "metadata": {},
     "output_type": "display_data"
    },
    {
     "data": {
      "image/png": "[encoded data removed]",
      "text/plain": [
       "<matplotlib.figure.Figure at 0x19c88dd55f8>"
      ]
     },
     "metadata": {},
     "output_type": "display_data"
    },
    {
     "data": {
      "image/png": "[encoded data removed]",
      "text/plain": [
       "<matplotlib.figure.Figure at 0x19c88e0e2b0>"
      ]
     },
     "metadata": {},
     "output_type": "display_data"
    }
   ],
   "source": [
    "digit = int(input('please enter a digit from 0 to 9: '))\n",
    "\n",
    "visualization_data = np.empty([1,1,200,2])\n",
    "c=0\n",
    "for i in range(0,10000):\n",
    "    if test_labels[i]==digit:\n",
    "        visualization_data[0]=test_data[i]\n",
    "        vis_label=i\n",
    "        c=c+1\n",
    "        if c==2:\n",
    "            break\n",
    "\n",
    "front,back = front_and_back(test_data,vis_label,encoded_test_labels,0)\n",
    "plt.title('Original Segmentation')\n",
    "plt.plot(back[:-1,0],back[:-1,1],'xr')\n",
    "plt.plot(front[:-1,0],front[:-1,1],'xb')\n",
    "plt.axis('equal')\n",
    "plt.axis([-0.5,0.5,-0.5,0.5])\n",
    "plt.show()\n",
    "\n",
    "preds= segmentation_model.predict(visualization_data)\n",
    "p_front,p_back = front_and_back(test_data,vis_label,preds,1)\n",
    "plt.title('Predicted Segmentation')\n",
    "plt.plot(p_back[:-1,0],p_back[:-1,1],'xr')\n",
    "plt.plot(p_front[:-1,0],p_front[:-1,1],'xb')\n",
    "plt.axis('equal')\n",
    "plt.axis([-0.5,0.5,-0.5,0.5])\n",
    "plt.show()\n",
    "\n",
    "front_correct = intersect(front,p_front)\n",
    "back_correct = intersect(back,p_back)\n",
    "front_wrong = np.array(list(set(tuple(x) for x in front).difference(tuple(x) for x in p_front)))\n",
    "back_wrong = np.array(list(set(tuple(x) for x in back).difference(tuple(x) for x in p_back)))\n",
    "\n",
    "plt.title('Difference Graph')\n",
    "plt.plot(front_correct[:-1,0],front_correct[:-1,1],'xb')\n",
    "plt.plot(back_correct[:-1,0],back_correct[:-1,1],'xb')\n",
    "if front_wrong.size!=0:\n",
    "    plt.plot(front_wrong[:-1,0],front_wrong[:-1,1],'xr')\n",
    "if back_wrong.size!=0:\n",
    "    plt.plot(back_wrong[:-1,0],back_wrong[:-1,1],'xr')\n",
    "plt.axis('equal')\n",
    "plt.axis([-0.5,0.5,-0.5,0.5])\n",
    "plt.show()"
   ]
  },
  {
   "cell_type": "markdown",
   "metadata": {},
   "source": [
    "# per class accuracy"
   ]
  },
  {
   "cell_type": "code",
   "execution_count": 7,
   "metadata": {
    "collapsed": true
   },
   "outputs": [],
   "source": [
    "classes_preds= segmentation_model.predict(test_data)\n"
   ]
  },
  {
   "cell_type": "code",
   "execution_count": 15,
   "metadata": {
    "collapsed": true
   },
   "outputs": [],
   "source": [
    "def get_classes_acc(preds,digits,true_labels):\n",
    "    total = np.zeros(10)\n",
    "    hits = np.zeros(10)\n",
    "    for i in range(0,10000):\n",
    "        digit = digits[i]\n",
    "        total[digit]=total[digit]+200\n",
    "        true_lab = true_labels[i]\n",
    "        pred_lab = preds[i]\n",
    "        for j in range(0,200):\n",
    "            p = pred_lab[j] #preds for 0 or 1 (back or front)\n",
    "            if (true_lab[j]==0 and p[0]>p[1]) or (true_lab[j]==1 and p[1]>p[0]):\n",
    "                hits[digit] = hits[digit]+1\n",
    "    hits = hits/total\n",
    "    hits = hits*100\n",
    "    return hits"
   ]
  },
  {
   "cell_type": "code",
   "execution_count": 17,
   "metadata": {},
   "outputs": [
    {
     "data": {
      "image/png": "[encoded data removed]",
      "text/plain": [
       "<matplotlib.figure.Figure at 0x19c88dc4d68>"
      ]
     },
     "metadata": {},
     "output_type": "display_data"
    },
    {
     "name": "stdout",
     "output_type": "stream",
     "text": [
      "[ 98.81530612  97.98370044  96.08333333  98.02821782  97.86812627\n",
      "  97.31390135  96.70824635  96.31420233  98.83932238  98.51833499]\n"
     ]
    }
   ],
   "source": [
    "class_accuracies = get_classes_acc(classes_preds,test_labels,test_seg_labels)\n",
    "x = np.arange(10)\n",
    "width= 1/1.5\n",
    "plt.bar(x,class_accuracies,width,color='blue')\n",
    "plt.xticks(x)\n",
    "plt.show()\n",
    "print(class_accuracies)"
   ]
  },
  {
   "cell_type": "markdown",
   "metadata": {},
   "source": [
    "# Visualization for the report: ratio of errors in predicting background points vs errors of predicting digit points in an input"
   ]
  },
  {
   "cell_type": "code",
   "execution_count": 36,
   "metadata": {
    "collapsed": true
   },
   "outputs": [],
   "source": [
    "def errors_back_vs_front(seg_preds,seg_true_preds,labels,digit):\n",
    "    back_errors = 0\n",
    "    front_errors = 0\n",
    "    sum_errors = 0\n",
    "    for i in range(0,10000):\n",
    "        if labels[i]==digit:\n",
    "            cur_pred = seg_preds[i]\n",
    "            cur_true = seg_true_preds[i]\n",
    "            for j in range(0,200):\n",
    "                vals = cur_pred[j]\n",
    "                if (vals[0]>vals[1] and cur_true[j]==1):\n",
    "                    back_errors = back_errors+1\n",
    "                    sum_errors = sum_errors+1\n",
    "                elif (vals[1]>vals[0] and cur_true[j]==0):\n",
    "                    front_errors = front_errors+1\n",
    "                    sum_errors= sum_errors+1\n",
    "    return (back_errors/sum_errors),(front_errors/sum_errors)\n",
    "# return percents of background errors, percents of digit errors\n",
    "            "
   ]
  },
  {
   "cell_type": "code",
   "execution_count": 39,
   "metadata": {
    "collapsed": true
   },
   "outputs": [],
   "source": [
    "def per_class_back_vs_front_errors(preds,seg_labs,test_labs):\n",
    "    back_errors= np.empty(10)\n",
    "    front_errors = np.empty(10)\n",
    "    for i in range(0,10):\n",
    "        background_err_rate, digit_err_rate =  errors_back_vs_front(preds,seg_labs,test_labs,i)\n",
    "        back_errors[i]=background_err_rate\n",
    "        front_errors[i]=digit_err_rate\n",
    "    return back_errors*100,front_errors*100"
   ]
  },
  {
   "cell_type": "code",
   "execution_count": 42,
   "metadata": {
    "collapsed": true
   },
   "outputs": [],
   "source": [
    "back_errors, front_errors = per_class_back_vs_front_errors(classes_preds,test_seg_labels,test_labels)"
   ]
  },
  {
   "cell_type": "code",
   "execution_count": 46,
   "metadata": {
    "scrolled": true
   },
   "outputs": [
    {
     "data": {
      "image/png": "[encoded data removed]",
      "text/plain": [
       "<matplotlib.figure.Figure at 0x19c8915e6a0>"
      ]
     },
     "metadata": {},
     "output_type": "display_data"
    },
    {
     "name": "stdout",
     "output_type": "stream",
     "text": [
      "avg back and front:  76.9849860507 23.0150139493\n"
     ]
    }
   ],
   "source": [
    "x= np.arange(10)\n",
    "width = 1/1.5\n",
    "plt.bar(x,back_errors,width,color='blue',label='Background miss')\n",
    "plt.bar(x,front_errors,width,color='red',label = 'Digit miss')\n",
    "plt.title('Mismatches: Background points vs Digit points')\n",
    "plt.xticks(x)\n",
    "plt.xlabel('Class')\n",
    "plt.ylabel('Percentage')\n",
    "plt.legend()\n",
    "plt.show()\n",
    "print('avg back and front: ',sum(back_errors)/10,sum(front_errors)/10)"
   ]
  },
  {
   "cell_type": "code",
   "execution_count": 48,
   "metadata": {},
   "outputs": [
    {
     "name": "stdout",
     "output_type": "stream",
     "text": [
      "[ 87.42463394  93.20515622  67.15734785  72.13155913  82.32624791\n",
      "  63.87729549  79.35627081  72.51253629  73.33038479  78.52842809] [ 12.57536606   6.79484378  32.84265215  27.86844087  17.67375209\n",
      "  36.12270451  20.64372919  27.48746371  26.66961521  21.47157191]\n"
     ]
    }
   ],
   "source": [
    "print(back_errors,front_errors)"
   ]
  },
  {
   "cell_type": "code",
   "execution_count": null,
   "metadata": {
    "collapsed": true
   },
   "outputs": [],
   "source": []
  }
 ],
 "metadata": {
  "kernelspec": {
   "display_name": "Python 3",
   "language": "python",
   "name": "python3"
  },
  "language_info": {
   "codemirror_mode": {
    "name": "ipython",
    "version": 3
   },
   "file_extension": ".py",
   "mimetype": "text/x-python",
   "name": "python",
   "nbconvert_exporter": "python",
   "pygments_lexer": "ipython3",
   "version": "3.5.3"
  }
 },
 "nbformat": 4,
 "nbformat_minor": 2
}
