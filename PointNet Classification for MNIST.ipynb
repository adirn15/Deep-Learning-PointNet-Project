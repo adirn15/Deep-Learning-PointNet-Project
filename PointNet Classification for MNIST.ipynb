{
 "cells": [
  {
   "cell_type": "markdown",
   "metadata": {},
   "source": [
    "# Import Keras, Numpy, H5py"
   ]
  },
  {
   "cell_type": "code",
   "execution_count": 2,
   "metadata": {},
   "outputs": [
    {
     "name": "stderr",
     "output_type": "stream",
     "text": [
      "Using TensorFlow backend.\n"
     ]
    }
   ],
   "source": [
    "from __future__ import print_function\n",
    "import keras\n",
    "from keras.models import Model\n",
    "from keras.layers import Dense, Dropout, Flatten, Input\n",
    "from keras.layers import Conv2D, MaxPooling2D\n",
    "from keras.layers.core import RepeatVector,Reshape\n",
    "from keras import backend as K\n",
    "import h5py\n",
    "import numpy as np\n",
    "\n",
    "path = 'C:\\\\Users\\\\user\\\\university\\\\year3\\\\sem6\\\\tcg172\\\\'\n",
    "batch_size = 128\n",
    "num_classes = 10\n",
    "epochs = 10\n"
   ]
  },
  {
   "cell_type": "markdown",
   "metadata": {},
   "source": [
    "# Load MNIST data and labels"
   ]
  },
  {
   "cell_type": "code",
   "execution_count": 3,
   "metadata": {},
   "outputs": [
    {
     "name": "stdout",
     "output_type": "stream",
     "text": [
      "(50000, 1, 100, 2)\n",
      "(10000, 1, 100, 2)\n",
      "(50000,)\n"
     ]
    }
   ],
   "source": [
    "# load data from NPZ file\n",
    "all_data = np.load(path+'mnist_points_classification.npz')\n",
    "\n",
    "# input_shape is (width,height) each point is of shape (x,y) = (1 row,2 columns) \n",
    "num_of_points = 100\n",
    "point = 2\n",
    "\n",
    "#test arrays\n",
    "train_labels = all_data['train_labels']\n",
    "train_data = all_data['train_data']\n",
    "#validation arrays\n",
    "valid_labels = all_data['valid_labels']\n",
    "valid_data = all_data['valid_data']\n",
    "#test arrays\n",
    "test_labels1 = all_data['test_labels']\n",
    "test_data = all_data['test_data']\n",
    "\n",
    "train_data = train_data.astype('float32')\n",
    "valid_data = valid_data.astype('float32')\n",
    "test_data = test_data.astype('float32')\n",
    "\n",
    "train_data = train_data.reshape(train_data.shape[0],1,num_of_points, point)\n",
    "valid_data = valid_data.reshape(valid_data.shape[0],1,num_of_points, point)\n",
    "test_data = test_data.reshape(test_data.shape[0],1,num_of_points, point)\n",
    "\n",
    "print(train_data.shape)\n",
    "print(test_data.shape)\n",
    "print(train_labels.shape)"
   ]
  },
  {
   "cell_type": "markdown",
   "metadata": {},
   "source": [
    "# Create dataset samples for quick testing of the model"
   ]
  },
  {
   "cell_type": "code",
   "execution_count": 4,
   "metadata": {},
   "outputs": [
    {
     "name": "stdout",
     "output_type": "stream",
     "text": [
      "samples: train shape (8000, 1, 100, 2)\n",
      "samples: valid shape (2000, 1, 100, 2)\n",
      "samples:  test shape (2000, 1, 100, 2)\n"
     ]
    }
   ],
   "source": [
    "# creating samples\n",
    "\n",
    "sample_size= 8000\n",
    "sample_train_labels= np.empty(sample_size)\n",
    "sample_train_data= np.empty([sample_size,1,100,2])\n",
    "count = np.zeros(10)\n",
    "i=0\n",
    "#train samples\n",
    "while i < sample_size:\n",
    "    for label in train_labels:\n",
    "        if count[label] < sample_size/10:\n",
    "            sample_train_labels[i] = label\n",
    "            sample_train_data[i] = train_data[i]\n",
    "            count[label]= count[label]+1\n",
    "            i=i+1\n",
    "# else:\n",
    "#     print(count)\n",
    "    \n",
    "#validation samples\n",
    "i=0\n",
    "count = np.zeros(10)\n",
    "sample_valid_labels= np.empty(sample_size//4)\n",
    "sample_valid_data= np.empty([sample_size//4,1,100,2])\n",
    "while i < sample_size/4:\n",
    "    for label in valid_labels:\n",
    "        if count[label] < sample_size/40:\n",
    "            sample_valid_labels[i] = label\n",
    "            sample_valid_data[i] = valid_data[i]\n",
    "            count[label]= count[label]+1\n",
    "            i=i+1\n",
    "# else:\n",
    "#     print(count)\n",
    "\n",
    "#test samples\n",
    "i=0\n",
    "count = np.zeros(10)\n",
    "sample_test_labels= np.empty(sample_size//4)\n",
    "sample_test_data= np.empty([sample_size//4,1,100,2])\n",
    "while i < sample_size/4:\n",
    "    for label in test_labels1:\n",
    "        if count[label] < sample_size/40:\n",
    "            sample_test_labels[i] = label\n",
    "            sample_test_data[i] = test_data[i]\n",
    "            count[label]= count[label]+1\n",
    "            i=i+1\n",
    "# else:\n",
    "#     print(count) \n",
    "print('samples: train shape',sample_train_data.shape)  \n",
    "print('samples: valid shape',sample_valid_data.shape)  \n",
    "print('samples:  test shape',sample_test_data.shape)  "
   ]
  },
  {
   "cell_type": "markdown",
   "metadata": {},
   "source": [
    "# Change labels to one hot encoding (samples and full sets)"
   ]
  },
  {
   "cell_type": "code",
   "execution_count": 5,
   "metadata": {},
   "outputs": [
    {
     "name": "stdout",
     "output_type": "stream",
     "text": [
      "(10000, 10)\n",
      "\n",
      "changed labels to one hot encoding\n"
     ]
    }
   ],
   "source": [
    "# convert class vectors to binary class matrices\n",
    "train_labels = keras.utils.to_categorical(train_labels, num_classes)\n",
    "valid_labels = keras.utils.to_categorical(valid_labels, num_classes)\n",
    "test_labels  = keras.utils.to_categorical(test_labels1, num_classes)\n",
    "\n",
    "sample_train_labels = keras.utils.to_categorical(sample_train_labels, num_classes)\n",
    "sample_valid_labels = keras.utils.to_categorical(sample_valid_labels, num_classes)\n",
    "sample_test_labels  = keras.utils.to_categorical(sample_test_labels, num_classes)\n",
    "print(test_labels.shape)\n",
    "print()\n",
    "print('changed labels to one hot encoding')"
   ]
  },
  {
   "cell_type": "markdown",
   "metadata": {},
   "source": [
    "# Choose Sample or Full dataset"
   ]
  },
  {
   "cell_type": "code",
   "execution_count": 6,
   "metadata": {
    "collapsed": true
   },
   "outputs": [],
   "source": [
    "use_sample = 0"
   ]
  },
  {
   "cell_type": "markdown",
   "metadata": {},
   "source": [
    "# the Classification Model"
   ]
  },
  {
   "cell_type": "code",
   "execution_count": 7,
   "metadata": {
    "collapsed": true,
    "scrolled": false
   },
   "outputs": [],
   "source": [
    "inputs = Input(shape=(1,100,2))\n",
    "\n",
    "#implement 2X2 TNET here\n",
    "\n",
    "x = Conv2D(64,(1,1),strides=1, activation='relu')(inputs)\n",
    "x = Conv2D(64,(1,1), strides=1, activation='relu')(x)\n",
    "\n",
    "#missing 64X64 TNET here\n",
    "\n",
    "x = Conv2D(64,(1,1), strides=1, activation='relu')(x)\n",
    "\n",
    "local_features = Flatten()(x)\n",
    "\n",
    "x = Conv2D(128,(1,1), strides=1, activation='relu')(x)\n",
    "x = Conv2D(1024,(1,1), strides=1, activation='relu')(x)\n",
    "\n",
    "#max pooling layer\n",
    "x = MaxPooling2D((1,100), strides=1, padding='valid')(x)\n",
    "x = Flatten()(x)\n",
    "\n",
    "global_features = x\n",
    "\n",
    "#last part\n",
    "\n",
    "x = Dense(512, activation='relu')(x)\n",
    "x = Dropout(0.4)(x)\n",
    "x = Dense(256, activation='relu')(x)\n",
    "predictions = Dense(num_classes, activation='softmax')(x)\n",
    "\n",
    "model = Model(inputs=inputs, outputs=predictions)\n",
    "model.compile(loss=keras.losses.categorical_crossentropy,\n",
    "              optimizer=keras.optimizers.Adam(),\n",
    "              metrics=['accuracy'])\n",
    "\n"
   ]
  },
  {
   "cell_type": "markdown",
   "metadata": {},
   "source": [
    "# Train the model on the chosen dataset "
   ]
  },
  {
   "cell_type": "code",
   "execution_count": null,
   "metadata": {
    "collapsed": true
   },
   "outputs": [],
   "source": [
    "if use_sample:\n",
    "    model.fit(sample_train_data,sample_train_labels,\n",
    "          batch_size=batch_size,\n",
    "          epochs=epochs,\n",
    "          verbose=1,\n",
    "          validation_data=(sample_valid_data, sample_valid_labels))\n",
    "    score = model.evaluate(sample_test_data, sample_test_labels, verbose=0)\n",
    "else: \n",
    "    model.fit(train_data,train_labels,\n",
    "              batch_size=batch_size,\n",
    "              epochs=epochs,\n",
    "              verbose=1,\n",
    "              validation_data=(valid_data, valid_labels))\n",
    "    score = model.evaluate(test_data,test_labels, verbose=0)\n",
    "    \n",
    "print('Test loss:', score[0])\n",
    "print('Test accuracy:', score[1])"
   ]
  },
  {
   "cell_type": "markdown",
   "metadata": {},
   "source": [
    "# Load or Save Weights"
   ]
  },
  {
   "cell_type": "code",
   "execution_count": 16,
   "metadata": {
    "collapsed": true,
    "scrolled": true
   },
   "outputs": [],
   "source": [
    "# model.save_weights('classification.h5')"
   ]
  },
  {
   "cell_type": "code",
   "execution_count": 8,
   "metadata": {
    "collapsed": true
   },
   "outputs": [],
   "source": [
    "model.load_weights('classification_92-86.h5')"
   ]
  },
  {
   "cell_type": "markdown",
   "metadata": {
    "collapsed": true
   },
   "source": [
    "# Visualization of results"
   ]
  },
  {
   "cell_type": "code",
   "execution_count": 9,
   "metadata": {
    "collapsed": true
   },
   "outputs": [],
   "source": [
    "from matplotlib import pyplot as plt\n",
    "all_mnist = np.load(path+'mnist.npz')\n",
    "mnist = all_mnist['test_data']"
   ]
  },
  {
   "cell_type": "markdown",
   "metadata": {},
   "source": [
    "# show some visual info about a digit, this script was written for the report"
   ]
  },
  {
   "cell_type": "code",
   "execution_count": 11,
   "metadata": {
    "scrolled": true
   },
   "outputs": [
    {
     "name": "stdout",
     "output_type": "stream",
     "text": [
      "please select a digit from 0 to 9: 8\n"
     ]
    },
    {
     "data": {
      "image/png": "[encoded data removed]",
      "text/plain": [
       "<matplotlib.figure.Figure at 0x262992cc278>"
      ]
     },
     "metadata": {},
     "output_type": "display_data"
    },
    {
     "data": {
      "image/png": "[encoded data removed]",
      "text/plain": [
       "<matplotlib.figure.Figure at 0x26299490b00>"
      ]
     },
     "metadata": {},
     "output_type": "display_data"
    },
    {
     "data": {
      "image/png": "[encoded data removed]",
      "text/plain": [
       "<matplotlib.figure.Figure at 0x26298ef1c50>"
      ]
     },
     "metadata": {},
     "output_type": "display_data"
    },
    {
     "data": {
      "image/png": "[encoded data removed]",
      "text/plain": [
       "<matplotlib.figure.Figure at 0x262993e9278>"
      ]
     },
     "metadata": {},
     "output_type": "display_data"
    },
    {
     "data": {
      "image/png": "[encoded data removed]",
      "text/plain": [
       "<matplotlib.figure.Figure at 0x2629934ca90>"
      ]
     },
     "metadata": {},
     "output_type": "display_data"
    },
    {
     "data": {
      "image/png": "[encoded data removed]",
      "text/plain": [
       "<matplotlib.figure.Figure at 0x26299326c50>"
      ]
     },
     "metadata": {},
     "output_type": "display_data"
    },
    {
     "data": {
      "image/png": "[encoded data removed]",
      "text/plain": [
       "<matplotlib.figure.Figure at 0x26299597b70>"
      ]
     },
     "metadata": {},
     "output_type": "display_data"
    },
    {
     "data": {
      "image/png": "[encoded data removed]",
      "text/plain": [
       "<matplotlib.figure.Figure at 0x26299532358>"
      ]
     },
     "metadata": {},
     "output_type": "display_data"
    }
   ],
   "source": [
    "digit = int(input('please select a digit from 0 to 9: '))\n",
    "\n",
    "preds = model.predict(test_data)\n",
    "\n",
    "min=10\n",
    "minindex=-1\n",
    "max=0\n",
    "maxindex=-1\n",
    "avg=100\n",
    "avgindex=-1\n",
    "\n",
    "wrongindex= -1\n",
    "confused_digit=-1\n",
    "wrongscore=-1\n",
    "digit_score=-1\n",
    "\n",
    "for i in range(0,len(preds)):\n",
    "    if test_labels1[i]==digit: \n",
    "        if preds[i][digit]<min:\n",
    "            minindex=i\n",
    "            min = preds[i][digit]\n",
    "        if preds[i][digit]>max:\n",
    "            maxindex=i\n",
    "            max = preds[i][digit]\n",
    "        x = abs(preds[i][digit]-5)\n",
    "        if abs(x)<avg:\n",
    "            avgindex=i\n",
    "            avg = x\n",
    "            \n",
    "        if np.amax(preds[i])!=preds[i][digit]:\n",
    "            wrongindex=i\n",
    "            confused_digit = test_labels1[i]\n",
    "            wrongscore = preds[i][test_labels1[i]]\n",
    "            digit_score = preds[i][digit]\n",
    "    else:\n",
    "        if np.amax(preds[i])==preds[i][digit]:\n",
    "            wrongindex=i\n",
    "            confused_digit = test_labels1[i]\n",
    "            wrongscore = preds[i][test_labels1[i]]\n",
    "            digit_score = preds[i][digit]\n",
    "            \n",
    "max = float(format(max, '.6f'))\n",
    "min = float(format(min, '.6f'))\n",
    "avg = float(format(avg, '.6f'))\n",
    "wrongscore = float(format(wrongscore, '.6f'))\n",
    "digit_score = float(format(digit_score, '.6f'))\n",
    "\n",
    "plt.title('Most Confident Prediction: {}'.format(max))\n",
    "plt.plot(test_data[maxindex][0][:-1,0],test_data[maxindex][0][:-1,1],'xg')\n",
    "# plt.plot(p_front[:-1,0],p_front[:-1,1],'xb')\n",
    "plt.axis('equal')\n",
    "plt.axis([-0.5,0.5,-0.5,0.5])\n",
    "plt.show()\n",
    "\n",
    "plt.title('Original Best')\n",
    "plt.imshow(mnist[maxindex].reshape(28,28), cmap='gray')\n",
    "plt.show()\n",
    "\n",
    "plt.title('Most Unconfident Prediction: {}'.format(min))\n",
    "plt.plot(test_data[minindex][0][:-1,0],test_data[minindex][0][:-1,1],'xb')\n",
    "plt.axis('equal')\n",
    "plt.axis([-0.5,0.5,-0.5,0.5])\n",
    "plt.show()\n",
    "\n",
    "plt.title('Original Worst')\n",
    "plt.imshow(mnist[minindex].reshape(28,28), cmap='gray')\n",
    "plt.show()\n",
    "\n",
    "plt.title('Most Uncertain Prediction: {}'.format(avg))\n",
    "plt.plot(test_data[avgindex][0][:-1,0],test_data[avgindex][0][:-1,1],'xy')\n",
    "plt.axis('equal')\n",
    "plt.axis([-0.5,0.5,-0.5,0.5])\n",
    "plt.show()\n",
    "\n",
    "plt.title('Original Uncertain')\n",
    "plt.imshow(mnist[avgindex].reshape(28,28), cmap='gray')\n",
    "plt.show()\n",
    "\n",
    "if wrongscore!=-1:\n",
    "    plt.title('Wrong Prediction: confused {} with {}! scores: {}, {}'.format(confused_digit,digit,wrongscore,digit_score))\n",
    "    plt.plot(test_data[wrongindex][0][:-1,0],test_data[wrongindex][0][:-1,1],'xr')\n",
    "    plt.axis('equal')\n",
    "    plt.axis([-0.5,0.5,-0.5,0.5])\n",
    "    plt.show()\n",
    "    \n",
    "    plt.title('Original Wrong')\n",
    "    plt.imshow(mnist[wrongindex].reshape(28,28), cmap='gray')\n",
    "    plt.show()\n",
    "else:\n",
    "    print('No prediction guessed this digit falsely!')\n"
   ]
  },
  {
   "cell_type": "markdown",
   "metadata": {},
   "source": [
    "# Functions built to assist further analysis of results"
   ]
  },
  {
   "cell_type": "code",
   "execution_count": 54,
   "metadata": {
    "collapsed": true
   },
   "outputs": [],
   "source": [
    "# receives a predictions array and returns the index of the 10 most uncertain results\n",
    "def most_uncertain(arr):\n",
    "    arr = arr-[0.5,0.5,0.5,0.5,0.5,0.5,0.5,0.5,0.5,0.5]\n",
    "    for i in range(0,10000):\n",
    "        for j in range(0,10):\n",
    "            if arr[i][j]<0:\n",
    "                arr[i][j]=-1*arr[i][j]\n",
    "        arr[i].sort()\n",
    "        \n",
    "    uncertain_indexes = np.empty(10)\n",
    "    minis = np.empty(10)\n",
    "    minis.fill(10)\n",
    "    for k in range(0,10000):\n",
    "        if arr[k][0]<minis.any():\n",
    "#             print(arr[k][0])\n",
    "            for i in range(0,10):\n",
    "                if arr[k][0]<minis[i]:\n",
    "                    minis[i]=arr[k][0]\n",
    "                    uncertain_indexes[i]=k\n",
    "                    break\n",
    "    return uncertain_indexes "
   ]
  },
  {
   "cell_type": "code",
   "execution_count": 70,
   "metadata": {
    "collapsed": true
   },
   "outputs": [],
   "source": [
    "#return an index of digit a predicted as digit b\n",
    "def a_predicted_as_b(a,b,preds,truelbs):\n",
    "    for i in range(0,10000):\n",
    "        if truelbs[i]==a:\n",
    "            if preds[i][b]>preds[i][a]:\n",
    "                return i"
   ]
  },
  {
   "cell_type": "code",
   "execution_count": 65,
   "metadata": {
    "collapsed": true,
    "scrolled": false
   },
   "outputs": [],
   "source": [
    "preds_1 = model.predict(test_data)"
   ]
  },
  {
   "cell_type": "markdown",
   "metadata": {},
   "source": [
    "# show uncertain results"
   ]
  },
  {
   "cell_type": "code",
   "execution_count": null,
   "metadata": {
    "collapsed": true
   },
   "outputs": [],
   "source": [
    "x = most_uncertain(preds_1)\n",
    "for index in x:\n",
    "    index=int(index)\n",
    "    plt.plot(test_data[index][0][:-1,0],test_data[index][0][:-1,1],'xr')\n",
    "    plt.axis('equal')\n",
    "    plt.axis([-0.5,0.5,-0.5,0.5])\n",
    "    plt.show()\n",
    "    \n",
    "    plt.imshow(mnist[index].reshape(28,28), cmap='gray')\n",
    "    plt.show()"
   ]
  },
  {
   "cell_type": "markdown",
   "metadata": {},
   "source": [
    "# show an error: digit a predicted as digit b (for the report)"
   ]
  },
  {
   "cell_type": "code",
   "execution_count": 73,
   "metadata": {},
   "outputs": [
    {
     "data": {
      "image/png": "[encoded data removed]",
      "text/plain": [
       "<matplotlib.figure.Figure at 0x278c0fe65f8>"
      ]
     },
     "metadata": {},
     "output_type": "display_data"
    },
    {
     "data": {
      "image/png": "[encoded data removed]",
      "text/plain": [
       "<matplotlib.figure.Figure at 0x278c0f25ba8>"
      ]
     },
     "metadata": {},
     "output_type": "display_data"
    }
   ],
   "source": [
    "y = a_predicted_as_b(4,9,preds_1,test_labels1)\n",
    "plt.plot(test_data[y][0][:-1,0],test_data[y][0][:-1,1],'xr')\n",
    "plt.axis('equal')\n",
    "plt.axis([-0.5,0.5,-0.5,0.5])\n",
    "plt.show()\n",
    "\n",
    "plt.imshow(mnist[y].reshape(28,28), cmap='gray')\n",
    "plt.show()"
   ]
  },
  {
   "cell_type": "markdown",
   "metadata": {
    "collapsed": true
   },
   "source": [
    "# Confusion Matrix"
   ]
  },
  {
   "cell_type": "code",
   "execution_count": 10,
   "metadata": {
    "collapsed": true
   },
   "outputs": [],
   "source": [
    "from sklearn.metrics import confusion_matrix"
   ]
  },
  {
   "cell_type": "code",
   "execution_count": 11,
   "metadata": {
    "collapsed": true
   },
   "outputs": [],
   "source": [
    "def create_decimal_predictions(arr):\n",
    "    decimal_labels = np.empty(10000)\n",
    "    for i in range(0,10000):\n",
    "        maxi=0\n",
    "        labels=arr[i]\n",
    "        index=-1\n",
    "        for j in range(0,10):\n",
    "            if labels[j]>maxi:\n",
    "                maxi=labels[j]\n",
    "                index=j\n",
    "        decimal_labels[i]=index\n",
    "    return decimal_labels"
   ]
  },
  {
   "cell_type": "code",
   "execution_count": 12,
   "metadata": {
    "collapsed": true
   },
   "outputs": [],
   "source": [
    "model_preds = model.predict(test_data)"
   ]
  },
  {
   "cell_type": "code",
   "execution_count": 14,
   "metadata": {
    "scrolled": true
   },
   "outputs": [
    {
     "data": {
      "image/png": "[encoded data removed]",
      "text/plain": [
       "<matplotlib.figure.Figure at 0x278c0df2eb8>"
      ]
     },
     "metadata": {},
     "output_type": "display_data"
    },
    {
     "data": {
      "image/png": "[encoded data removed]",
      "text/plain": [
       "<matplotlib.figure.Figure at 0x278c10d5d30>"
      ]
     },
     "metadata": {},
     "output_type": "display_data"
    }
   ],
   "source": [
    "decimal_labels=create_decimal_predictions(model_preds)\n",
    "cf_matrix = confusion_matrix(test_labels1,decimal_labels)\n",
    "\n",
    "ticks = np.arange(10)\n",
    "plt.matshow(cf_matrix)\n",
    "plt.title('Confusion Matrix\\n\\n')\n",
    "plt.xlabel('\\nPredicted Labels')\n",
    "plt.ylabel('True Labels')\n",
    "plt.xticks(ticks)\n",
    "plt.yticks(ticks)\n",
    "plt.colorbar()\n",
    "plt.show()\n",
    "\n",
    "for i in range(0,10):\n",
    "    cf_matrix[i][i]=0\n",
    "    \n",
    "plt.matshow(cf_matrix)\n",
    "plt.title('Confusion Matrix: Only Wrong Preds\\n\\n')\n",
    "plt.xlabel('\\nPredicted Labels')\n",
    "plt.ylabel('True Labels')\n",
    "plt.xticks(ticks)\n",
    "plt.yticks(ticks)\n",
    "plt.colorbar()\n",
    "plt.show()"
   ]
  },
  {
   "cell_type": "markdown",
   "metadata": {},
   "source": [
    "# per class accuracy "
   ]
  },
  {
   "cell_type": "code",
   "execution_count": 9,
   "metadata": {
    "collapsed": true
   },
   "outputs": [],
   "source": [
    "preds_2 = model.predict(test_data)"
   ]
  },
  {
   "cell_type": "code",
   "execution_count": 10,
   "metadata": {
    "collapsed": true
   },
   "outputs": [],
   "source": [
    "def get_class_acc(preds,truth):\n",
    "    total = np.zeros(10)\n",
    "    hits = np.zeros(10)\n",
    "    for i in range(0,10000):\n",
    "        true = truth[i] \n",
    "        total[true]=total[true]+1\n",
    "        copy = np.array(preds[i])\n",
    "        copy.sort()\n",
    "        if copy[9]==preds[i][true]:\n",
    "            hits[true]=hits[true]+1\n",
    "    for i in range(0,10):\n",
    "        total[i]=hits[i]/total[i]\n",
    "    return total    "
   ]
  },
  {
   "cell_type": "code",
   "execution_count": 23,
   "metadata": {},
   "outputs": [
    {
     "data": {
      "image/png": "[encoded data removed]",
      "text/plain": [
       "<matplotlib.figure.Figure at 0x20bdefef748>"
      ]
     },
     "metadata": {},
     "output_type": "display_data"
    }
   ],
   "source": [
    "classes_acc = get_class_acc(preds_2,test_labels1)\n",
    "classes_acc = classes_acc*100\n",
    "x = [0,1,2,3,4,5,6,7,8,9]\n",
    "width = 1/1.7\n",
    "plt.bar(x,classes_acc,width,color='blue')\n",
    "plt.xticks(x)\n",
    "plt.show()"
   ]
  },
  {
   "cell_type": "code",
   "execution_count": null,
   "metadata": {
    "collapsed": true
   },
   "outputs": [],
   "source": []
  }
 ],
 "metadata": {
  "kernelspec": {
   "display_name": "Python 3",
   "language": "python",
   "name": "python3"
  },
  "language_info": {
   "codemirror_mode": {
    "name": "ipython",
    "version": 3
   },
   "file_extension": ".py",
   "mimetype": "text/x-python",
   "name": "python",
   "nbconvert_exporter": "python",
   "pygments_lexer": "ipython3",
   "version": "3.5.3"
  }
 },
 "nbformat": 4,
 "nbformat_minor": 2
}
